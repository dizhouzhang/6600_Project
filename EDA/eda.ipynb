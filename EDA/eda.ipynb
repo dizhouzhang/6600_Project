{
  "nbformat": 4,
  "nbformat_minor": 0,
  "metadata": {
    "colab": {
      "provenance": []
    },
    "kernelspec": {
      "name": "python3",
      "display_name": "Python 3"
    },
    "language_info": {
      "name": "python"
    }
  },
  "cells": [
    {
      "cell_type": "code",
      "execution_count": null,
      "metadata": {
        "colab": {
          "base_uri": "https://localhost:8080/",
          "height": 394
        },
        "id": "gyXN7wczIanM",
        "outputId": "03418a96-f5b3-4122-d1c2-b59ec8ec7252"
      },
      "outputs": [
        {
          "output_type": "stream",
          "name": "stdout",
          "text": [
            "Collecting https://anaconda.org/conda-forge/openjdk/11.0.1/download/linux-64/openjdk-11.0.1-hacce0ff_1021.tar.bz2\n",
            "  Downloading https://anaconda.org/conda-forge/openjdk/11.0.1/download/linux-64/openjdk-11.0.1-hacce0ff_1021.tar.bz2 (180.5 MB)\n",
            "\u001b[2K     \u001b[90m━━━━━━━━━━━━━━━━━━━━━━━━━━━━━━━━━━━━━━━━\u001b[0m \u001b[32m180.5/180.5 MB\u001b[0m \u001b[31m6.0 MB/s\u001b[0m eta \u001b[36m0:00:00\u001b[0m\n",
            "\u001b[?25h\u001b[31mERROR: https://anaconda.org/conda-forge/openjdk/11.0.1/download/linux-64/openjdk-11.0.1-hacce0ff_1021.tar.bz2 does not appear to be a Python project: neither 'setup.py' nor 'pyproject.toml' found.\u001b[0m\u001b[31m\n",
            "\u001b[0mCollecting pyspark==3.4.0\n",
            "  Downloading pyspark-3.4.0.tar.gz (310.8 MB)\n",
            "\u001b[2K     \u001b[90m━━━━━━━━━━━━━━━━━━━━━━━━━━━━━━━━━━━━━━━━\u001b[0m \u001b[32m310.8/310.8 MB\u001b[0m \u001b[31m5.1 MB/s\u001b[0m eta \u001b[36m0:00:00\u001b[0m\n",
            "\u001b[?25h  Preparing metadata (setup.py) ... \u001b[?25l\u001b[?25hdone\n",
            "Requirement already satisfied: py4j==0.10.9.7 in /usr/local/lib/python3.10/dist-packages (from pyspark==3.4.0) (0.10.9.7)\n",
            "Building wheels for collected packages: pyspark\n",
            "  Building wheel for pyspark (setup.py) ... \u001b[?25l\u001b[?25hdone\n",
            "  Created wheel for pyspark: filename=pyspark-3.4.0-py2.py3-none-any.whl size=311317123 sha256=d9b2403fda9940eb37ecd960fef35f594156148ee39d6b9da8643aad71c06ea4\n",
            "  Stored in directory: /root/.cache/pip/wheels/7b/1b/4b/3363a1d04368e7ff0d408e57ff57966fcdf00583774e761327\n",
            "Successfully built pyspark\n",
            "Installing collected packages: pyspark\n",
            "  Attempting uninstall: pyspark\n",
            "    Found existing installation: pyspark 3.5.3\n",
            "    Uninstalling pyspark-3.5.3:\n",
            "      Successfully uninstalled pyspark-3.5.3\n",
            "Successfully installed pyspark-3.4.0\n"
          ]
        },
        {
          "output_type": "execute_result",
          "data": {
            "text/plain": [
              "<IPython.core.display.HTML object>"
            ],
            "text/html": [
              "<script>Jupyter.notebook.kernel.restart()</script>"
            ]
          },
          "metadata": {},
          "execution_count": 2
        }
      ],
      "source": [
        "# Setup - Run only once per Kernel App\n",
        "%pip install https://anaconda.org/conda-forge/openjdk/11.0.1/download/linux-64/openjdk-11.0.1-hacce0ff_1021.tar.bz2\n",
        "\n",
        "# install PySpark\n",
        "%pip install pyspark==3.4.0\n",
        "\n",
        "# restart kernel\n",
        "from IPython.core.display import HTML\n",
        "HTML(\"<script>Jupyter.notebook.kernel.restart()</script>\")"
      ]
    },
    {
      "cell_type": "code",
      "source": [
        "# Import pyspark and build Spark session\n",
        "from pyspark.sql import SparkSession\n",
        "\n",
        "spark = (\n",
        "    SparkSession.builder.appName(\"PySparkApp\")\n",
        "    .config(\"spark.jars.packages\", \"org.apache.hadoop:hadoop-aws:3.2.2\")\n",
        "    .config(\n",
        "        \"fs.s3a.aws.credentials.provider\",\n",
        "        \"com.amazonaws.auth.ContainerCredentialsProvider\",\n",
        "    )\n",
        "    .getOrCreate()\n",
        ")\n",
        "\n",
        "print(spark.version)"
      ],
      "metadata": {
        "colab": {
          "base_uri": "https://localhost:8080/"
        },
        "id": "ud6PqqehJU_F",
        "outputId": "3a7302af-28bb-4b16-dc7b-1c819dcd68be"
      },
      "execution_count": null,
      "outputs": [
        {
          "output_type": "stream",
          "name": "stdout",
          "text": [
            "3.4.0\n"
          ]
        }
      ]
    },
    {
      "cell_type": "code",
      "source": [
        "from pyspark.sql import SparkSession\n",
        "\n",
        "# Create a SparkSession\n",
        "spark = SparkSession.builder \\\n",
        "    .appName(\"Insurance Data Analysis\") \\\n",
        "    .getOrCreate()\n",
        "\n",
        "# Read the CSV file with semicolon delimiter\n",
        "df_spark = spark.read \\\n",
        "    .option(\"delimiter\", \";\") \\\n",
        "    .option(\"header\", \"true\") \\\n",
        "    .option(\"inferSchema\", \"true\") \\\n",
        "    .csv('Motor vehicle insurance data.csv')\n",
        "\n",
        "# Show the schema and first few rows\n",
        "df_spark.printSchema()\n",
        "df_spark.show(5)"
      ],
      "metadata": {
        "colab": {
          "base_uri": "https://localhost:8080/"
        },
        "id": "tO_ocA1PJuLZ",
        "outputId": "e7526b08-c891-43ed-8ebb-f734d89f5a04"
      },
      "execution_count": null,
      "outputs": [
        {
          "output_type": "stream",
          "name": "stdout",
          "text": [
            "root\n",
            " |-- ID: integer (nullable = true)\n",
            " |-- Date_start_contract: string (nullable = true)\n",
            " |-- Date_last_renewal: string (nullable = true)\n",
            " |-- Date_next_renewal: string (nullable = true)\n",
            " |-- Date_birth: string (nullable = true)\n",
            " |-- Date_driving_licence: string (nullable = true)\n",
            " |-- Distribution_channel: string (nullable = true)\n",
            " |-- Seniority: integer (nullable = true)\n",
            " |-- Policies_in_force: integer (nullable = true)\n",
            " |-- Max_policies: integer (nullable = true)\n",
            " |-- Max_products: integer (nullable = true)\n",
            " |-- Lapse: integer (nullable = true)\n",
            " |-- Date_lapse: string (nullable = true)\n",
            " |-- Payment: integer (nullable = true)\n",
            " |-- Premium: double (nullable = true)\n",
            " |-- Cost_claims_year: double (nullable = true)\n",
            " |-- N_claims_year: integer (nullable = true)\n",
            " |-- N_claims_history: integer (nullable = true)\n",
            " |-- R_Claims_history: double (nullable = true)\n",
            " |-- Type_risk: integer (nullable = true)\n",
            " |-- Area: integer (nullable = true)\n",
            " |-- Second_driver: integer (nullable = true)\n",
            " |-- Year_matriculation: integer (nullable = true)\n",
            " |-- Power: integer (nullable = true)\n",
            " |-- Cylinder_capacity: integer (nullable = true)\n",
            " |-- Value_vehicle: double (nullable = true)\n",
            " |-- N_doors: integer (nullable = true)\n",
            " |-- Type_fuel: string (nullable = true)\n",
            " |-- Length: string (nullable = true)\n",
            " |-- Weight: integer (nullable = true)\n",
            "\n",
            "+---+-------------------+-----------------+-----------------+----------+--------------------+--------------------+---------+-----------------+------------+------------+-----+----------+-------+-------+----------------+-------------+----------------+----------------+---------+----+-------------+------------------+-----+-----------------+-------------+-------+---------+------+------+\n",
            "| ID|Date_start_contract|Date_last_renewal|Date_next_renewal|Date_birth|Date_driving_licence|Distribution_channel|Seniority|Policies_in_force|Max_policies|Max_products|Lapse|Date_lapse|Payment|Premium|Cost_claims_year|N_claims_year|N_claims_history|R_Claims_history|Type_risk|Area|Second_driver|Year_matriculation|Power|Cylinder_capacity|Value_vehicle|N_doors|Type_fuel|Length|Weight|\n",
            "+---+-------------------+-----------------+-----------------+----------+--------------------+--------------------+---------+-----------------+------------+------------+-----+----------+-------+-------+----------------+-------------+----------------+----------------+---------+----+-------------+------------------+-----+-----------------+-------------+-------+---------+------+------+\n",
            "|  1|         05/11/2015|       05/11/2015|       05/11/2016|15/04/1956|          20/03/1976|                   0|        4|                1|           2|           1|    0|      null|      0| 222.52|             0.0|            0|               0|             0.0|        1|   0|            0|              2004|   80|              599|       7068.0|      0|        P|    NA|   190|\n",
            "|  1|         05/11/2015|       05/11/2016|       05/11/2017|15/04/1956|          20/03/1976|                   0|        4|                1|           2|           1|    0|      null|      0| 213.78|             0.0|            0|               0|             0.0|        1|   0|            0|              2004|   80|              599|       7068.0|      0|        P|    NA|   190|\n",
            "|  1|         05/11/2015|       05/11/2017|       05/11/2018|15/04/1956|          20/03/1976|                   0|        4|                2|           2|           1|    0|      null|      0| 214.84|             0.0|            0|               0|             0.0|        1|   0|            0|              2004|   80|              599|       7068.0|      0|        P|    NA|   190|\n",
            "|  1|         05/11/2015|       05/11/2018|       05/11/2019|15/04/1956|          20/03/1976|                   0|        4|                2|           2|           1|    0|      null|      0| 216.99|             0.0|            0|               0|             0.0|        1|   0|            0|              2004|   80|              599|       7068.0|      0|        P|    NA|   190|\n",
            "|  2|         26/09/2017|       26/09/2017|       26/09/2018|15/04/1956|          20/03/1976|                   0|        4|                2|           2|           1|    0|      null|      1|  213.7|             0.0|            0|               0|             0.0|        1|   0|            0|              2004|   80|              599|       7068.0|      0|        P|    NA|   190|\n",
            "+---+-------------------+-----------------+-----------------+----------+--------------------+--------------------+---------+-----------------+------------+------------+-----+----------+-------+-------+----------------+-------------+----------------+----------------+---------+----+-------------+------------------+-----+-----------------+-------------+-------+---------+------+------+\n",
            "only showing top 5 rows\n",
            "\n"
          ]
        }
      ]
    },
    {
      "cell_type": "markdown",
      "source": [
        "## Exploratory Data Analysis"
      ],
      "metadata": {
        "id": "NJOW-5iJMi_E"
      }
    },
    {
      "cell_type": "code",
      "source": [
        "from pyspark.sql import functions as F\n",
        "import matplotlib.pyplot as plt\n",
        "import seaborn as sns\n",
        "import pandas as pd\n",
        "\n",
        "# Helper function to count null values\n",
        "def count_nulls(df):\n",
        "    return df.select([F.count(F.when(F.col(c).isNull(), c)).alias(c) for c in df.columns])\n",
        "\n",
        "# Helper function to get basic statistics\n",
        "def get_basic_stats(df, column):\n",
        "    return df.select(\n",
        "        F.count(column).alias('count'),\n",
        "        F.mean(column).alias('mean'),\n",
        "        F.min(column).alias('min'),\n",
        "        F.max(column).alias('max')\n",
        "    ).collect()[0]"
      ],
      "metadata": {
        "id": "EfqHRantLEZz"
      },
      "execution_count": null,
      "outputs": []
    },
    {
      "cell_type": "code",
      "source": [
        "# Get row count\n",
        "row_count = df_spark.count()\n",
        "print(f\"Total number of rows: {row_count}\")\n",
        "\n",
        "# Get null counts\n",
        "null_counts = count_nulls(df_spark)\n",
        "null_counts.show()"
      ],
      "metadata": {
        "colab": {
          "base_uri": "https://localhost:8080/"
        },
        "id": "nwXh7DAKLIbg",
        "outputId": "ae94d04f-6cfe-4a2b-cd14-fa58d8c49fed"
      },
      "execution_count": null,
      "outputs": [
        {
          "output_type": "stream",
          "name": "stdout",
          "text": [
            "Total number of rows: 105555\n",
            "+---+-------------------+-----------------+-----------------+----------+--------------------+--------------------+---------+-----------------+------------+------------+-----+----------+-------+-------+----------------+-------------+----------------+----------------+---------+----+-------------+------------------+-----+-----------------+-------------+-------+---------+------+------+\n",
            "| ID|Date_start_contract|Date_last_renewal|Date_next_renewal|Date_birth|Date_driving_licence|Distribution_channel|Seniority|Policies_in_force|Max_policies|Max_products|Lapse|Date_lapse|Payment|Premium|Cost_claims_year|N_claims_year|N_claims_history|R_Claims_history|Type_risk|Area|Second_driver|Year_matriculation|Power|Cylinder_capacity|Value_vehicle|N_doors|Type_fuel|Length|Weight|\n",
            "+---+-------------------+-----------------+-----------------+----------+--------------------+--------------------+---------+-----------------+------------+------------+-----+----------+-------+-------+----------------+-------------+----------------+----------------+---------+----+-------------+------------------+-----+-----------------+-------------+-------+---------+------+------+\n",
            "|  0|                  0|                0|                0|         0|                   0|                   0|        0|                0|           0|           0|    0|     70408|      0|      0|               0|            0|               0|               0|        0|   0|            0|                 0|    0|                0|            0|      0|        0|     0|     0|\n",
            "+---+-------------------+-----------------+-----------------+----------+--------------------+--------------------+---------+-----------------+------------+------------+-----+----------+-------+-------+----------------+-------------+----------------+----------------+---------+----+-------------+------------------+-----+-----------------+-------------+-------+---------+------+------+\n",
            "\n"
          ]
        }
      ]
    },
    {
      "cell_type": "code",
      "source": [
        "# Basic statistics for numerical columns\n",
        "numeric_cols = [field.name for field in df_spark.schema.fields\n",
        "                if field.dataType.typeName() in ['double', 'integer']]\n",
        "\n",
        "for col in numeric_cols:\n",
        "    print(f\"\\nStatistics for {col}:\")\n",
        "    df_spark.select(col).summary().show()"
      ],
      "metadata": {
        "colab": {
          "base_uri": "https://localhost:8080/"
        },
        "id": "JdcBZdoHLL5u",
        "outputId": "2e8c006f-59a6-4dd1-9032-0a60bd444211"
      },
      "execution_count": null,
      "outputs": [
        {
          "output_type": "stream",
          "name": "stdout",
          "text": [
            "\n",
            "Statistics for ID:\n",
            "+-------+------------------+\n",
            "|summary|                ID|\n",
            "+-------+------------------+\n",
            "|  count|            105555|\n",
            "|   mean|26271.286788877835|\n",
            "| stddev|15388.309324237242|\n",
            "|    min|                 1|\n",
            "|    25%|             12925|\n",
            "|    50%|             26081|\n",
            "|    75%|             39756|\n",
            "|    max|             53502|\n",
            "+-------+------------------+\n",
            "\n",
            "\n",
            "Statistics for Seniority:\n",
            "+-------+------------------+\n",
            "|summary|         Seniority|\n",
            "+-------+------------------+\n",
            "|  count|            105555|\n",
            "|   mean| 6.696603666335086|\n",
            "| stddev|6.2639114990010345|\n",
            "|    min|                 1|\n",
            "|    25%|                 3|\n",
            "|    50%|                 4|\n",
            "|    75%|                 9|\n",
            "|    max|                40|\n",
            "+-------+------------------+\n",
            "\n",
            "\n",
            "Statistics for Policies_in_force:\n",
            "+-------+------------------+\n",
            "|summary| Policies_in_force|\n",
            "+-------+------------------+\n",
            "|  count|            105555|\n",
            "|   mean|1.4556487139405996|\n",
            "| stddev|0.9284271605171871|\n",
            "|    min|                 1|\n",
            "|    25%|                 1|\n",
            "|    50%|                 1|\n",
            "|    75%|                 2|\n",
            "|    max|                17|\n",
            "+-------+------------------+\n",
            "\n",
            "\n",
            "Statistics for Max_policies:\n",
            "+-------+------------------+\n",
            "|summary|      Max_policies|\n",
            "+-------+------------------+\n",
            "|  count|            105555|\n",
            "|   mean|1.8372317749040785|\n",
            "| stddev|1.1555363329005899|\n",
            "|    min|                 1|\n",
            "|    25%|                 1|\n",
            "|    50%|                 2|\n",
            "|    75%|                 2|\n",
            "|    max|                17|\n",
            "+-------+------------------+\n",
            "\n",
            "\n",
            "Statistics for Max_products:\n",
            "+-------+------------------+\n",
            "|summary|      Max_products|\n",
            "+-------+------------------+\n",
            "|  count|            105555|\n",
            "|   mean| 1.065842451802378|\n",
            "| stddev|0.2678069979196431|\n",
            "|    min|                 1|\n",
            "|    25%|                 1|\n",
            "|    50%|                 1|\n",
            "|    75%|                 1|\n",
            "|    max|                 4|\n",
            "+-------+------------------+\n",
            "\n",
            "\n",
            "Statistics for Lapse:\n",
            "+-------+-------------------+\n",
            "|summary|              Lapse|\n",
            "+-------+-------------------+\n",
            "|  count|             105555|\n",
            "|   mean|  0.221836957036616|\n",
            "| stddev|0.46485789297299085|\n",
            "|    min|                  0|\n",
            "|    25%|                  0|\n",
            "|    50%|                  0|\n",
            "|    75%|                  0|\n",
            "|    max|                  7|\n",
            "+-------+-------------------+\n",
            "\n",
            "\n",
            "Statistics for Payment:\n",
            "+-------+-------------------+\n",
            "|summary|            Payment|\n",
            "+-------+-------------------+\n",
            "|  count|             105555|\n",
            "|   mean|0.31917957462934016|\n",
            "| stddev| 0.4661609512478887|\n",
            "|    min|                  0|\n",
            "|    25%|                  0|\n",
            "|    50%|                  0|\n",
            "|    75%|                  1|\n",
            "|    max|                  1|\n",
            "+-------+-------------------+\n",
            "\n",
            "\n",
            "Statistics for Premium:\n",
            "+-------+------------------+\n",
            "|summary|           Premium|\n",
            "+-------+------------------+\n",
            "|  count|            105555|\n",
            "|   mean|315.89255724503596|\n",
            "| stddev| 140.9279689248318|\n",
            "|    min|             40.14|\n",
            "|    25%|            241.61|\n",
            "|    50%|            292.28|\n",
            "|    75%|            361.62|\n",
            "|    max|           2993.34|\n",
            "+-------+------------------+\n",
            "\n",
            "\n",
            "Statistics for Cost_claims_year:\n",
            "+-------+------------------+\n",
            "|summary|  Cost_claims_year|\n",
            "+-------+------------------+\n",
            "|  count|            105555|\n",
            "|   mean|153.55730538581815|\n",
            "| stddev|1477.1123616995983|\n",
            "|    min|               0.0|\n",
            "|    25%|               0.0|\n",
            "|    50%|               0.0|\n",
            "|    75%|               0.0|\n",
            "|    max|         260853.24|\n",
            "+-------+------------------+\n",
            "\n",
            "\n",
            "Statistics for N_claims_year:\n",
            "+-------+-------------------+\n",
            "|summary|      N_claims_year|\n",
            "+-------+-------------------+\n",
            "|  count|             105555|\n",
            "|   mean|0.39469470891952063|\n",
            "| stddev|  1.105017816590918|\n",
            "|    min|                  0|\n",
            "|    25%|                  0|\n",
            "|    50%|                  0|\n",
            "|    75%|                  0|\n",
            "|    max|                 25|\n",
            "+-------+-------------------+\n",
            "\n",
            "\n",
            "Statistics for N_claims_history:\n",
            "+-------+------------------+\n",
            "|summary|  N_claims_history|\n",
            "+-------+------------------+\n",
            "|  count|            105555|\n",
            "|   mean| 2.751759746103927|\n",
            "| stddev|3.8816212271368395|\n",
            "|    min|                 0|\n",
            "|    25%|                 0|\n",
            "|    50%|                 1|\n",
            "|    75%|                 4|\n",
            "|    max|                52|\n",
            "+-------+------------------+\n",
            "\n",
            "\n",
            "Statistics for R_Claims_history:\n",
            "+-------+------------------+\n",
            "|summary|  R_Claims_history|\n",
            "+-------+------------------+\n",
            "|  count|            105555|\n",
            "|   mean|0.4251944483918373|\n",
            "| stddev|0.7148833434243101|\n",
            "|    min|               0.0|\n",
            "|    25%|               0.0|\n",
            "|    50%|              0.08|\n",
            "|    75%|              0.59|\n",
            "|    max|             26.07|\n",
            "+-------+------------------+\n",
            "\n",
            "\n",
            "Statistics for Type_risk:\n",
            "+-------+------------------+\n",
            "|summary|         Type_risk|\n",
            "+-------+------------------+\n",
            "|  count|            105555|\n",
            "|   mean| 2.721803798967363|\n",
            "| stddev|0.6148352019873179|\n",
            "|    min|                 1|\n",
            "|    25%|                 3|\n",
            "|    50%|                 3|\n",
            "|    75%|                 3|\n",
            "|    max|                 4|\n",
            "+-------+------------------+\n",
            "\n",
            "\n",
            "Statistics for Area:\n",
            "+-------+-------------------+\n",
            "|summary|               Area|\n",
            "+-------+-------------------+\n",
            "|  count|             105555|\n",
            "|   mean| 0.2738951257638198|\n",
            "| stddev|0.44595792398877776|\n",
            "|    min|                  0|\n",
            "|    25%|                  0|\n",
            "|    50%|                  0|\n",
            "|    75%|                  1|\n",
            "|    max|                  1|\n",
            "+-------+-------------------+\n",
            "\n",
            "\n",
            "Statistics for Second_driver:\n",
            "+-------+-------------------+\n",
            "|summary|      Second_driver|\n",
            "+-------+-------------------+\n",
            "|  count|             105555|\n",
            "|   mean|0.12370801951589219|\n",
            "| stddev| 0.3292497113544946|\n",
            "|    min|                  0|\n",
            "|    25%|                  0|\n",
            "|    50%|                  0|\n",
            "|    75%|                  0|\n",
            "|    max|                  1|\n",
            "+-------+-------------------+\n",
            "\n",
            "\n",
            "Statistics for Year_matriculation:\n",
            "+-------+------------------+\n",
            "|summary|Year_matriculation|\n",
            "+-------+------------------+\n",
            "|  count|            105555|\n",
            "|   mean| 2004.728037515987|\n",
            "| stddev| 6.767036749898768|\n",
            "|    min|              1950|\n",
            "|    25%|              2001|\n",
            "|    50%|              2005|\n",
            "|    75%|              2008|\n",
            "|    max|              2018|\n",
            "+-------+------------------+\n",
            "\n",
            "\n",
            "Statistics for Power:\n",
            "+-------+-----------------+\n",
            "|summary|            Power|\n",
            "+-------+-----------------+\n",
            "|  count|           105555|\n",
            "|   mean|92.68261096111033|\n",
            "| stddev|37.01264473256243|\n",
            "|    min|                0|\n",
            "|    25%|               75|\n",
            "|    50%|               90|\n",
            "|    75%|              110|\n",
            "|    max|              580|\n",
            "+-------+-----------------+\n",
            "\n",
            "\n",
            "Statistics for Cylinder_capacity:\n",
            "+-------+-----------------+\n",
            "|summary|Cylinder_capacity|\n",
            "+-------+-----------------+\n",
            "|  count|           105555|\n",
            "|   mean|1617.759367154564|\n",
            "| stddev|604.6973824652173|\n",
            "|    min|               49|\n",
            "|    25%|             1390|\n",
            "|    50%|             1598|\n",
            "|    75%|             1910|\n",
            "|    max|             7480|\n",
            "+-------+-----------------+\n",
            "\n",
            "\n",
            "Statistics for Value_vehicle:\n",
            "+-------+-----------------+\n",
            "|summary|    Value_vehicle|\n",
            "+-------+-----------------+\n",
            "|  count|           105555|\n",
            "|   mean|18413.65724323835|\n",
            "| stddev|9135.074234742317|\n",
            "|    min|           270.46|\n",
            "|    25%|          13120.1|\n",
            "|    50%|         17608.77|\n",
            "|    75%|          22595.0|\n",
            "|    max|         220675.8|\n",
            "+-------+-----------------+\n",
            "\n",
            "\n",
            "Statistics for N_doors:\n",
            "+-------+------------------+\n",
            "|summary|           N_doors|\n",
            "+-------+------------------+\n",
            "|  count|            105555|\n",
            "|   mean| 4.067898252096064|\n",
            "| stddev|1.5118393670802266|\n",
            "|    min|                 0|\n",
            "|    25%|                 3|\n",
            "|    50%|                 5|\n",
            "|    75%|                 5|\n",
            "|    max|                 6|\n",
            "+-------+------------------+\n",
            "\n",
            "\n",
            "Statistics for Weight:\n",
            "+-------+------------------+\n",
            "|summary|            Weight|\n",
            "+-------+------------------+\n",
            "|  count|            105555|\n",
            "|   mean|1191.2624224338024|\n",
            "| stddev| 458.0818335666718|\n",
            "|    min|                43|\n",
            "|    25%|              1043|\n",
            "|    50%|              1205|\n",
            "|    75%|              1388|\n",
            "|    max|              7300|\n",
            "+-------+------------------+\n",
            "\n"
          ]
        }
      ]
    },
    {
      "cell_type": "markdown",
      "source": [
        "#### 1. Distribution of Premium"
      ],
      "metadata": {
        "id": "86Bw1PbUMU8o"
      }
    },
    {
      "cell_type": "code",
      "source": [
        "# 1. Distribution of Premium\n",
        "premium_pd = df_spark.select('Premium').toPandas()\n",
        "plt.figure(figsize=(10, 6))\n",
        "sns.histplot(data=premium_pd, x='Premium', bins=50)\n",
        "plt.title('Distribution of Premium Values')\n",
        "plt.xlabel('Premium')\n",
        "plt.ylabel('Count')\n",
        "plt.show()"
      ],
      "metadata": {
        "colab": {
          "base_uri": "https://localhost:8080/",
          "height": 564
        },
        "id": "1UZblgBwLSzC",
        "outputId": "32bab21e-5fb7-4342-d575-53a94a1085f3"
      },
      "execution_count": null,
      "outputs": [
        {
          "output_type": "display_data",
          "data": {
            "text/plain": [
              "<Figure size 1000x600 with 1 Axes>"
            ],
            "image/png": "[encoded data removed]"
          },
          "metadata": {}
        }
      ]
    },
    {
      "cell_type": "markdown",
      "source": [
        "#### 2. Premium vs Vehicle Value"
      ],
      "metadata": {
        "id": "ciTWx0ZbMRrv"
      }
    },
    {
      "cell_type": "code",
      "source": [
        "# 2. Premium vs Vehicle Value\n",
        "premium_value = df_spark.select('Premium', 'Value_vehicle').toPandas()\n",
        "plt.figure(figsize=(10, 6))\n",
        "plt.scatter(premium_value['Value_vehicle'], premium_value['Premium'], alpha=0.5)\n",
        "plt.title('Premium vs Vehicle Value')\n",
        "plt.xlabel('Vehicle Value')\n",
        "plt.ylabel('Premium')\n",
        "plt.show()"
      ],
      "metadata": {
        "colab": {
          "base_uri": "https://localhost:8080/",
          "height": 564
        },
        "id": "iKUQlw08LWHd",
        "outputId": "c05fef89-4683-41e3-c2f3-5ba99736770b"
      },
      "execution_count": null,
      "outputs": [
        {
          "output_type": "display_data",
          "data": {
            "text/plain": [
              "<Figure size 1000x600 with 1 Axes>"
            ],
            "image/png": "[encoded data removed]"
          },
          "metadata": {}
        }
      ]
    },
    {
      "cell_type": "markdown",
      "source": [
        "#### 3. Distribution Channel Analysis"
      ],
      "metadata": {
        "id": "2BdI3YCXMQTa"
      }
    },
    {
      "cell_type": "code",
      "source": [
        "# 3. Distribution Channel Analysis\n",
        "channel_dist = df_spark.groupBy('Distribution_channel') \\\n",
        "    .count() \\\n",
        "    .orderBy(F.desc('count')) \\\n",
        "    .toPandas()\n",
        "\n",
        "plt.figure(figsize=(10, 6))\n",
        "plt.pie(channel_dist['count'], labels=channel_dist['Distribution_channel'], autopct='%1.1f%%')\n",
        "plt.title('Distribution of Sales Channels')\n",
        "plt.show()"
      ],
      "metadata": {
        "colab": {
          "base_uri": "https://localhost:8080/",
          "height": 521
        },
        "id": "sLzgkbbBLWFO",
        "outputId": "373bf013-a018-42f6-aafb-3f1bb9855484"
      },
      "execution_count": null,
      "outputs": [
        {
          "output_type": "display_data",
          "data": {
            "text/plain": [
              "<Figure size 1000x600 with 1 Axes>"
            ],
            "image/png": "[encoded data removed]"
          },
          "metadata": {}
        }
      ]
    },
    {
      "cell_type": "code",
      "source": [
        "# 1. Customer Age and Experience\n",
        "df_transformed = df_spark.withColumn(\n",
        "    'customer_age',\n",
        "    F.year(F.current_date()) - F.year(F.to_date('Date_birth', 'dd/MM/yyyy'))\n",
        ").withColumn(\n",
        "    'driving_experience',\n",
        "    F.year(F.current_date()) - F.year(F.to_date('Date_driving_licence', 'dd/MM/yyyy'))\n",
        ").withColumn(\n",
        "    'vehicle_age',\n",
        "    F.year(F.current_date()) - F.col('Year_matriculation')\n",
        ")\n",
        "\n",
        "\n",
        "df_transformed = df_transformed.withColumn(\n",
        "    'risk_score',\n",
        "    (F.col('N_claims_history') * 10 +\n",
        "     F.col('Power') / 50 +\n",
        "     F.col('Value_vehicle') / 10000 +\n",
        "     F.col('R_Claims_history') * 5)\n",
        ")\n",
        "\n",
        "# 3. Customer Value (combination of premium, policies in force, and seniority)\n",
        "df_transformed = df_transformed.withColumn(\n",
        "    'customer_value',\n",
        "    (F.col('Premium') * F.col('Policies_in_force') *\n",
        "     (1 + F.col('Seniority') / 10))\n",
        ")"
      ],
      "metadata": {
        "id": "i-flXgEHLWC1"
      },
      "execution_count": null,
      "outputs": []
    },
    {
      "cell_type": "markdown",
      "source": [
        "#### Table 1: Risk Profile Analysis by Age Group"
      ],
      "metadata": {
        "id": "8nXEM6kKMItr"
      }
    },
    {
      "cell_type": "code",
      "source": [
        "risk_by_age = df_transformed.withColumn(\n",
        "    'age_group',\n",
        "    F.when(F.col('customer_age') < 25, '18-24')\n",
        "    .when(F.col('customer_age').between(25, 35), '25-35')\n",
        "    .when(F.col('customer_age').between(36, 50), '36-50')\n",
        "    .when(F.col('customer_age').between(51, 65), '51-65')\n",
        "    .otherwise('65+')\n",
        ").groupBy('age_group').agg(\n",
        "    F.round(F.avg('Premium'), 2).alias('avg_premium'),\n",
        "    F.round(F.avg('risk_score'), 2).alias('avg_risk_score'),\n",
        "    F.count('*').alias('number_of_policies'),\n",
        "    F.round(F.avg('N_claims_history'), 2).alias('avg_claims_history'),\n",
        "    F.round(F.avg('Value_vehicle'), 2).alias('avg_vehicle_value')\n",
        ").orderBy('age_group')\n",
        "\n",
        "print(\"Risk Profile Analysis by Age Group:\")\n",
        "risk_by_age.show()"
      ],
      "metadata": {
        "colab": {
          "base_uri": "https://localhost:8080/"
        },
        "id": "_86A3ou3LWAg",
        "outputId": "ce6d33e6-88f3-4e3f-90e5-4a30fbe06beb"
      },
      "execution_count": null,
      "outputs": [
        {
          "output_type": "stream",
          "name": "stdout",
          "text": [
            "Risk Profile Analysis by Age Group:\n",
            "+---------+-----------+--------------+------------------+------------------+-----------------+\n",
            "|age_group|avg_premium|avg_risk_score|number_of_policies|avg_claims_history|avg_vehicle_value|\n",
            "+---------+-----------+--------------+------------------+------------------+-----------------+\n",
            "|    18-24|     451.47|          9.02|                11|              0.55|         18540.33|\n",
            "|    25-35|     396.46|         24.61|              6443|              1.84|         17016.86|\n",
            "|    36-50|     314.61|         32.99|             37342|               2.7|         18877.22|\n",
            "|    51-65|     315.27|          34.5|             40244|              2.87|         18357.35|\n",
            "|      65+|     295.08|         34.41|             21515|              2.91|         18132.64|\n",
            "+---------+-----------+--------------+------------------+------------------+-----------------+\n",
            "\n"
          ]
        }
      ]
    },
    {
      "cell_type": "markdown",
      "source": [
        "#### Table 2: Vehicle Analysis by Type and Age"
      ],
      "metadata": {
        "id": "7oz8CvT3MCQs"
      }
    },
    {
      "cell_type": "code",
      "source": [
        "vehicle_analysis = df_transformed.groupBy('Type_fuel', 'Type_risk').agg(\n",
        "    F.count('*').alias('vehicle_count'),\n",
        "    F.round(F.avg('vehicle_age'), 2).alias('avg_vehicle_age'),\n",
        "    F.round(F.avg('Premium'), 2).alias('avg_premium'),\n",
        "    F.round(F.avg('Power'), 2).alias('avg_power'),\n",
        "    F.round(F.avg('Value_vehicle'), 2).alias('avg_value')\n",
        ").orderBy('Type_fuel', 'Type_risk')\n",
        "\n",
        "print(\"\\nVehicle Analysis by Type and Age:\")\n",
        "vehicle_analysis.show()"
      ],
      "metadata": {
        "colab": {
          "base_uri": "https://localhost:8080/"
        },
        "id": "8zpb0yYaLV7c",
        "outputId": "b20fd327-4bb8-4a07-a5f4-2823a2573b91"
      },
      "execution_count": null,
      "outputs": [
        {
          "output_type": "stream",
          "name": "stdout",
          "text": [
            "\n",
            "Vehicle Analysis by Type and Age:\n",
            "+---------+---------+-------------+---------------+-----------+---------+---------+\n",
            "|Type_fuel|Type_risk|vehicle_count|avg_vehicle_age|avg_premium|avg_power|avg_value|\n",
            "+---------+---------+-------------+---------------+-----------+---------+---------+\n",
            "|        D|        1|           31|          28.32|     141.95|    55.06|   3656.3|\n",
            "|        D|        2|        12499|          19.57|     330.35|    93.37| 20038.75|\n",
            "|        D|        3|        51750|          18.32|      342.6|    103.7| 21260.25|\n",
            "|        D|        4|          718|          28.93|      79.22|     74.3| 35246.08|\n",
            "|       NA|        1|         1645|          34.44|     147.52|      0.0|  4053.52|\n",
            "|       NA|        4|          119|          37.31|      81.77|      0.0| 36744.88|\n",
            "|        P|        1|         6826|          20.05|     142.99|    25.79|  4146.71|\n",
            "|        P|        2|          713|          21.87|     291.77|    88.14|  16478.6|\n",
            "|        P|        3|        31240|           19.4|     319.68|    94.56| 16517.78|\n",
            "|        P|        4|           14|           26.0|      77.68|    91.29| 31474.21|\n",
            "+---------+---------+-------------+---------------+-----------+---------+---------+\n",
            "\n"
          ]
        }
      ]
    },
    {
      "cell_type": "markdown",
      "source": [
        "#### Table 3: Customer Segments Analysis"
      ],
      "metadata": {
        "id": "tbrgVXorL4qS"
      }
    },
    {
      "cell_type": "code",
      "source": [
        "from pyspark.sql import functions as F\n",
        "from pyspark.sql.window import Window\n",
        "window_spec = Window.orderBy('customer_value')\n",
        "customer_segments = df_transformed.withColumn(\n",
        "    'percentile', F.percent_rank().over(window_spec)\n",
        ").withColumn(\n",
        "    'customer_segment',\n",
        "    F.when(F.col('percentile') < 0.2, 'Bronze')\n",
        "    .when(F.col('percentile') < 0.5, 'Silver')\n",
        "    .when(F.col('percentile') < 0.8, 'Gold')\n",
        "    .otherwise('Platinum')\n",
        ").groupBy('customer_segment').agg(\n",
        "    F.count('*').alias('customer_count'),\n",
        "    F.round(F.avg('Premium'), 2).alias('avg_premium'),\n",
        "    F.round(F.avg('Policies_in_force'), 2).alias('avg_policies'),\n",
        "    F.round(F.avg('customer_value'), 2).alias('avg_customer_value'),\n",
        "    F.round(F.sum('Premium'), 2).alias('total_premium_revenue')\n",
        ").orderBy('customer_segment')\n",
        "\n",
        "print(\"\\nCustomer Segments Analysis:\")\n",
        "customer_segments.show()"
      ],
      "metadata": {
        "colab": {
          "base_uri": "https://localhost:8080/"
        },
        "id": "pULeu1spLsZz",
        "outputId": "b51bd563-fba4-40b8-acc6-3892d871a4c3"
      },
      "execution_count": null,
      "outputs": [
        {
          "output_type": "stream",
          "name": "stdout",
          "text": [
            "\n",
            "Customer Segments Analysis:\n",
            "+----------------+--------------+-----------+------------+------------------+---------------------+\n",
            "|customer_segment|customer_count|avg_premium|avg_policies|avg_customer_value|total_premium_revenue|\n",
            "+----------------+--------------+-----------+------------+------------------+---------------------+\n",
            "|          Bronze|         21114|     205.13|        1.09|            269.66|           4331136.59|\n",
            "|            Gold|         31667|     343.33|         1.4|            724.09|        1.087227778E7|\n",
            "|        Platinum|         21111|     409.25|        2.45|           1712.14|           8639660.45|\n",
            "|          Silver|         31663|     300.07|        1.09|            444.38|           9500964.06|\n",
            "+----------------+--------------+-----------+------------+------------------+---------------------+\n",
            "\n"
          ]
        }
      ]
    },
    {
      "cell_type": "markdown",
      "source": [
        "#### Correlations between new variables"
      ],
      "metadata": {
        "id": "U3O91xJ0MmTM"
      }
    },
    {
      "cell_type": "code",
      "source": [
        "def analyze_new_variables(df):\n",
        "    return df.select(\n",
        "        F.corr('risk_score', 'Premium').alias('risk_score_premium_correlation'),\n",
        "        F.corr('customer_value', 'N_claims_history').alias('value_claims_correlation'),\n",
        "        F.corr('driving_experience', 'risk_score').alias('experience_risk_correlation')\n",
        "    )\n",
        "\n",
        "correlations = analyze_new_variables(df_transformed)\n",
        "print(\"\\nCorrelations between new variables:\")\n",
        "correlations.show()"
      ],
      "metadata": {
        "colab": {
          "base_uri": "https://localhost:8080/"
        },
        "id": "Fg_WJRK0LwBE",
        "outputId": "ce2911f8-9ea7-47ba-ea58-10250e376890"
      },
      "execution_count": null,
      "outputs": [
        {
          "output_type": "stream",
          "name": "stdout",
          "text": [
            "\n",
            "Correlations between new variables:\n",
            "+------------------------------+------------------------+---------------------------+\n",
            "|risk_score_premium_correlation|value_claims_correlation|experience_risk_correlation|\n",
            "+------------------------------+------------------------+---------------------------+\n",
            "|           0.14490940841449382|       0.442514828905576|        0.05429202429152049|\n",
            "+------------------------------+------------------------+---------------------------+\n",
            "\n"
          ]
        }
      ]
    }
  ]
}